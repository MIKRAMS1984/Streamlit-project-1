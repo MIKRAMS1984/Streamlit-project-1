{
 "cells": [
  {
   "cell_type": "code",
   "execution_count": 1,
   "metadata": {},
   "outputs": [
    {
     "name": "stdout",
     "output_type": "stream",
     "text": [
      "Requirement already satisfied: streamlit_pandas-profiling in c:\\users\\shahzad\\miniconda3\\envs\\streamlit\\lib\\site-packages (0.1.3)\n",
      "Requirement already satisfied: pandas-profiling in c:\\users\\shahzad\\miniconda3\\envs\\streamlit\\lib\\site-packages (from streamlit_pandas-profiling) (3.6.6)\n",
      "Requirement already satisfied: streamlit>=0.63 in c:\\users\\shahzad\\miniconda3\\envs\\streamlit\\lib\\site-packages (from streamlit_pandas-profiling) (1.27.2)\n",
      "Requirement already satisfied: altair<6,>=4.0 in c:\\users\\shahzad\\miniconda3\\envs\\streamlit\\lib\\site-packages (from streamlit>=0.63->streamlit_pandas-profiling) (5.0.1)\n",
      "Requirement already satisfied: blinker<2,>=1.0.0 in c:\\users\\shahzad\\miniconda3\\envs\\streamlit\\lib\\site-packages (from streamlit>=0.63->streamlit_pandas-profiling) (1.6.2)\n",
      "Requirement already satisfied: cachetools<6,>=4.0 in c:\\users\\shahzad\\miniconda3\\envs\\streamlit\\lib\\site-packages (from streamlit>=0.63->streamlit_pandas-profiling) (4.2.2)\n",
      "Requirement already satisfied: click<9,>=7.0 in c:\\users\\shahzad\\miniconda3\\envs\\streamlit\\lib\\site-packages (from streamlit>=0.63->streamlit_pandas-profiling) (8.0.4)\n",
      "Requirement already satisfied: importlib-metadata<7,>=1.4 in c:\\users\\shahzad\\miniconda3\\envs\\streamlit\\lib\\site-packages (from streamlit>=0.63->streamlit_pandas-profiling) (6.0.0)\n",
      "Requirement already satisfied: numpy<2,>=1.19.3 in c:\\users\\shahzad\\miniconda3\\envs\\streamlit\\lib\\site-packages (from streamlit>=0.63->streamlit_pandas-profiling) (1.24.3)\n",
      "Requirement already satisfied: packaging<24,>=16.8 in c:\\users\\shahzad\\miniconda3\\envs\\streamlit\\lib\\site-packages (from streamlit>=0.63->streamlit_pandas-profiling) (23.1)\n",
      "Requirement already satisfied: pandas<3,>=1.3.0 in c:\\users\\shahzad\\miniconda3\\envs\\streamlit\\lib\\site-packages (from streamlit>=0.63->streamlit_pandas-profiling) (2.0.3)\n",
      "Requirement already satisfied: pillow<11,>=7.1.0 in c:\\users\\shahzad\\miniconda3\\envs\\streamlit\\lib\\site-packages (from streamlit>=0.63->streamlit_pandas-profiling) (9.4.0)\n",
      "Requirement already satisfied: protobuf<5,>=3.20 in c:\\users\\shahzad\\miniconda3\\envs\\streamlit\\lib\\site-packages (from streamlit>=0.63->streamlit_pandas-profiling) (3.20.3)\n",
      "Requirement already satisfied: pyarrow>=6.0 in c:\\users\\shahzad\\miniconda3\\envs\\streamlit\\lib\\site-packages (from streamlit>=0.63->streamlit_pandas-profiling) (11.0.0)\n",
      "Requirement already satisfied: python-dateutil<3,>=2.7.3 in c:\\users\\shahzad\\miniconda3\\envs\\streamlit\\lib\\site-packages (from streamlit>=0.63->streamlit_pandas-profiling) (2.8.2)\n",
      "Requirement already satisfied: requests<3,>=2.27 in c:\\users\\shahzad\\miniconda3\\envs\\streamlit\\lib\\site-packages (from streamlit>=0.63->streamlit_pandas-profiling) (2.31.0)\n",
      "Requirement already satisfied: rich<14,>=10.14.0 in c:\\users\\shahzad\\miniconda3\\envs\\streamlit\\lib\\site-packages (from streamlit>=0.63->streamlit_pandas-profiling) (13.3.5)\n",
      "Requirement already satisfied: tenacity<9,>=8.1.0 in c:\\users\\shahzad\\miniconda3\\envs\\streamlit\\lib\\site-packages (from streamlit>=0.63->streamlit_pandas-profiling) (8.2.2)\n",
      "Requirement already satisfied: toml<2,>=0.10.1 in c:\\users\\shahzad\\miniconda3\\envs\\streamlit\\lib\\site-packages (from streamlit>=0.63->streamlit_pandas-profiling) (0.10.2)\n",
      "Requirement already satisfied: typing-extensions<5,>=4.3.0 in c:\\users\\shahzad\\miniconda3\\envs\\streamlit\\lib\\site-packages (from streamlit>=0.63->streamlit_pandas-profiling) (4.7.1)\n",
      "Requirement already satisfied: tzlocal<6,>=1.1 in c:\\users\\shahzad\\miniconda3\\envs\\streamlit\\lib\\site-packages (from streamlit>=0.63->streamlit_pandas-profiling) (2.1)\n",
      "Requirement already satisfied: validators<1,>=0.2 in c:\\users\\shahzad\\miniconda3\\envs\\streamlit\\lib\\site-packages (from streamlit>=0.63->streamlit_pandas-profiling) (0.18.2)\n",
      "Requirement already satisfied: gitpython!=3.1.19,<4,>=3.0.7 in c:\\users\\shahzad\\miniconda3\\envs\\streamlit\\lib\\site-packages (from streamlit>=0.63->streamlit_pandas-profiling) (3.1.37)\n",
      "Requirement already satisfied: pydeck<1,>=0.8.0b4 in c:\\users\\shahzad\\miniconda3\\envs\\streamlit\\lib\\site-packages (from streamlit>=0.63->streamlit_pandas-profiling) (0.8.1b0)\n",
      "Requirement already satisfied: tornado<7,>=6.0.3 in c:\\users\\shahzad\\miniconda3\\envs\\streamlit\\lib\\site-packages (from streamlit>=0.63->streamlit_pandas-profiling) (6.3.3)\n",
      "Requirement already satisfied: watchdog>=2.1.5 in c:\\users\\shahzad\\miniconda3\\envs\\streamlit\\lib\\site-packages (from streamlit>=0.63->streamlit_pandas-profiling) (2.1.6)\n",
      "Requirement already satisfied: ydata-profiling in c:\\users\\shahzad\\miniconda3\\envs\\streamlit\\lib\\site-packages (from pandas-profiling->streamlit_pandas-profiling) (4.6.1)\n",
      "Requirement already satisfied: jinja2 in c:\\users\\shahzad\\miniconda3\\envs\\streamlit\\lib\\site-packages (from altair<6,>=4.0->streamlit>=0.63->streamlit_pandas-profiling) (3.1.2)\n",
      "Requirement already satisfied: jsonschema>=3.0 in c:\\users\\shahzad\\miniconda3\\envs\\streamlit\\lib\\site-packages (from altair<6,>=4.0->streamlit>=0.63->streamlit_pandas-profiling) (4.17.3)\n",
      "Requirement already satisfied: toolz in c:\\users\\shahzad\\miniconda3\\envs\\streamlit\\lib\\site-packages (from altair<6,>=4.0->streamlit>=0.63->streamlit_pandas-profiling) (0.12.0)\n",
      "Requirement already satisfied: colorama in c:\\users\\shahzad\\miniconda3\\envs\\streamlit\\lib\\site-packages (from click<9,>=7.0->streamlit>=0.63->streamlit_pandas-profiling) (0.4.6)\n",
      "Requirement already satisfied: gitdb<5,>=4.0.1 in c:\\users\\shahzad\\miniconda3\\envs\\streamlit\\lib\\site-packages (from gitpython!=3.1.19,<4,>=3.0.7->streamlit>=0.63->streamlit_pandas-profiling) (4.0.7)\n",
      "Requirement already satisfied: zipp>=0.5 in c:\\users\\shahzad\\miniconda3\\envs\\streamlit\\lib\\site-packages (from importlib-metadata<7,>=1.4->streamlit>=0.63->streamlit_pandas-profiling) (3.11.0)\n",
      "Requirement already satisfied: pytz>=2020.1 in c:\\users\\shahzad\\miniconda3\\envs\\streamlit\\lib\\site-packages (from pandas<3,>=1.3.0->streamlit>=0.63->streamlit_pandas-profiling) (2023.3.post1)\n",
      "Requirement already satisfied: tzdata>=2022.1 in c:\\users\\shahzad\\miniconda3\\envs\\streamlit\\lib\\site-packages (from pandas<3,>=1.3.0->streamlit>=0.63->streamlit_pandas-profiling) (2023.3)\n",
      "Requirement already satisfied: six>=1.5 in c:\\users\\shahzad\\miniconda3\\envs\\streamlit\\lib\\site-packages (from python-dateutil<3,>=2.7.3->streamlit>=0.63->streamlit_pandas-profiling) (1.16.0)\n",
      "Requirement already satisfied: charset-normalizer<4,>=2 in c:\\users\\shahzad\\miniconda3\\envs\\streamlit\\lib\\site-packages (from requests<3,>=2.27->streamlit>=0.63->streamlit_pandas-profiling) (2.0.4)\n",
      "Requirement already satisfied: idna<4,>=2.5 in c:\\users\\shahzad\\miniconda3\\envs\\streamlit\\lib\\site-packages (from requests<3,>=2.27->streamlit>=0.63->streamlit_pandas-profiling) (3.4)\n",
      "Requirement already satisfied: urllib3<3,>=1.21.1 in c:\\users\\shahzad\\miniconda3\\envs\\streamlit\\lib\\site-packages (from requests<3,>=2.27->streamlit>=0.63->streamlit_pandas-profiling) (1.26.16)\n",
      "Requirement already satisfied: certifi>=2017.4.17 in c:\\users\\shahzad\\miniconda3\\envs\\streamlit\\lib\\site-packages (from requests<3,>=2.27->streamlit>=0.63->streamlit_pandas-profiling) (2023.7.22)\n",
      "Requirement already satisfied: markdown-it-py<3.0.0,>=2.2.0 in c:\\users\\shahzad\\miniconda3\\envs\\streamlit\\lib\\site-packages (from rich<14,>=10.14.0->streamlit>=0.63->streamlit_pandas-profiling) (2.2.0)\n",
      "Requirement already satisfied: pygments<3.0.0,>=2.13.0 in c:\\users\\shahzad\\miniconda3\\envs\\streamlit\\lib\\site-packages (from rich<14,>=10.14.0->streamlit>=0.63->streamlit_pandas-profiling) (2.15.1)\n",
      "Requirement already satisfied: decorator>=3.4.0 in c:\\users\\shahzad\\miniconda3\\envs\\streamlit\\lib\\site-packages (from validators<1,>=0.2->streamlit>=0.63->streamlit_pandas-profiling) (5.1.1)\n",
      "Requirement already satisfied: scipy<1.12,>=1.4.1 in c:\\users\\shahzad\\miniconda3\\envs\\streamlit\\lib\\site-packages (from ydata-profiling->pandas-profiling->streamlit_pandas-profiling) (1.10.1)\n",
      "Requirement already satisfied: matplotlib<=3.7.3,>=3.2 in c:\\users\\shahzad\\miniconda3\\envs\\streamlit\\lib\\site-packages (from ydata-profiling->pandas-profiling->streamlit_pandas-profiling) (3.7.3)\n",
      "Requirement already satisfied: pydantic>=2 in c:\\users\\shahzad\\miniconda3\\envs\\streamlit\\lib\\site-packages (from ydata-profiling->pandas-profiling->streamlit_pandas-profiling) (2.4.2)\n",
      "Requirement already satisfied: PyYAML<6.1,>=5.0.0 in c:\\users\\shahzad\\miniconda3\\envs\\streamlit\\lib\\site-packages (from ydata-profiling->pandas-profiling->streamlit_pandas-profiling) (6.0)\n",
      "Requirement already satisfied: visions==0.7.5 in c:\\users\\shahzad\\miniconda3\\envs\\streamlit\\lib\\site-packages (from visions[type_image_path]==0.7.5->ydata-profiling->pandas-profiling->streamlit_pandas-profiling) (0.7.5)\n",
      "Requirement already satisfied: htmlmin==0.1.12 in c:\\users\\shahzad\\miniconda3\\envs\\streamlit\\lib\\site-packages (from ydata-profiling->pandas-profiling->streamlit_pandas-profiling) (0.1.12)\n",
      "Requirement already satisfied: phik<0.13,>=0.11.1 in c:\\users\\shahzad\\miniconda3\\envs\\streamlit\\lib\\site-packages (from ydata-profiling->pandas-profiling->streamlit_pandas-profiling) (0.12.3)\n",
      "Requirement already satisfied: tqdm<5,>=4.48.2 in c:\\users\\shahzad\\miniconda3\\envs\\streamlit\\lib\\site-packages (from ydata-profiling->pandas-profiling->streamlit_pandas-profiling) (4.66.1)\n",
      "Requirement already satisfied: seaborn<0.13,>=0.10.1 in c:\\users\\shahzad\\miniconda3\\envs\\streamlit\\lib\\site-packages (from ydata-profiling->pandas-profiling->streamlit_pandas-profiling) (0.12.2)\n",
      "Requirement already satisfied: multimethod<2,>=1.4 in c:\\users\\shahzad\\miniconda3\\envs\\streamlit\\lib\\site-packages (from ydata-profiling->pandas-profiling->streamlit_pandas-profiling) (1.10)\n",
      "Requirement already satisfied: statsmodels<1,>=0.13.2 in c:\\users\\shahzad\\miniconda3\\envs\\streamlit\\lib\\site-packages (from ydata-profiling->pandas-profiling->streamlit_pandas-profiling) (0.14.0)\n",
      "Requirement already satisfied: typeguard<5,>=4.1.2 in c:\\users\\shahzad\\miniconda3\\envs\\streamlit\\lib\\site-packages (from ydata-profiling->pandas-profiling->streamlit_pandas-profiling) (4.1.5)\n",
      "Requirement already satisfied: imagehash==4.3.1 in c:\\users\\shahzad\\miniconda3\\envs\\streamlit\\lib\\site-packages (from ydata-profiling->pandas-profiling->streamlit_pandas-profiling) (4.3.1)\n",
      "Requirement already satisfied: wordcloud>=1.9.1 in c:\\users\\shahzad\\miniconda3\\envs\\streamlit\\lib\\site-packages (from ydata-profiling->pandas-profiling->streamlit_pandas-profiling) (1.9.2)\n",
      "Requirement already satisfied: dacite>=1.8 in c:\\users\\shahzad\\miniconda3\\envs\\streamlit\\lib\\site-packages (from ydata-profiling->pandas-profiling->streamlit_pandas-profiling) (1.8.1)\n",
      "Requirement already satisfied: numba<0.59.0,>=0.56.0 in c:\\users\\shahzad\\miniconda3\\envs\\streamlit\\lib\\site-packages (from ydata-profiling->pandas-profiling->streamlit_pandas-profiling) (0.58.1)\n",
      "Requirement already satisfied: PyWavelets in c:\\users\\shahzad\\miniconda3\\envs\\streamlit\\lib\\site-packages (from imagehash==4.3.1->ydata-profiling->pandas-profiling->streamlit_pandas-profiling) (1.4.1)\n",
      "Requirement already satisfied: attrs>=19.3.0 in c:\\users\\shahzad\\miniconda3\\envs\\streamlit\\lib\\site-packages (from visions==0.7.5->visions[type_image_path]==0.7.5->ydata-profiling->pandas-profiling->streamlit_pandas-profiling) (23.1.0)\n",
      "Requirement already satisfied: networkx>=2.4 in c:\\users\\shahzad\\miniconda3\\envs\\streamlit\\lib\\site-packages (from visions==0.7.5->visions[type_image_path]==0.7.5->ydata-profiling->pandas-profiling->streamlit_pandas-profiling) (3.1)\n",
      "Requirement already satisfied: tangled-up-in-unicode>=0.0.4 in c:\\users\\shahzad\\miniconda3\\envs\\streamlit\\lib\\site-packages (from visions==0.7.5->visions[type_image_path]==0.7.5->ydata-profiling->pandas-profiling->streamlit_pandas-profiling) (0.2.0)\n",
      "Requirement already satisfied: smmap<5,>=3.0.1 in c:\\users\\shahzad\\miniconda3\\envs\\streamlit\\lib\\site-packages (from gitdb<5,>=4.0.1->gitpython!=3.1.19,<4,>=3.0.7->streamlit>=0.63->streamlit_pandas-profiling) (4.0.0)\n",
      "Requirement already satisfied: MarkupSafe>=2.0 in c:\\users\\shahzad\\miniconda3\\envs\\streamlit\\lib\\site-packages (from jinja2->altair<6,>=4.0->streamlit>=0.63->streamlit_pandas-profiling) (2.1.1)\n",
      "Requirement already satisfied: importlib-resources>=1.4.0 in c:\\users\\shahzad\\miniconda3\\envs\\streamlit\\lib\\site-packages (from jsonschema>=3.0->altair<6,>=4.0->streamlit>=0.63->streamlit_pandas-profiling) (5.2.0)\n",
      "Requirement already satisfied: pkgutil-resolve-name>=1.3.10 in c:\\users\\shahzad\\miniconda3\\envs\\streamlit\\lib\\site-packages (from jsonschema>=3.0->altair<6,>=4.0->streamlit>=0.63->streamlit_pandas-profiling) (1.3.10)\n",
      "Requirement already satisfied: pyrsistent!=0.17.0,!=0.17.1,!=0.17.2,>=0.14.0 in c:\\users\\shahzad\\miniconda3\\envs\\streamlit\\lib\\site-packages (from jsonschema>=3.0->altair<6,>=4.0->streamlit>=0.63->streamlit_pandas-profiling) (0.18.0)\n",
      "Requirement already satisfied: mdurl~=0.1 in c:\\users\\shahzad\\miniconda3\\envs\\streamlit\\lib\\site-packages (from markdown-it-py<3.0.0,>=2.2.0->rich<14,>=10.14.0->streamlit>=0.63->streamlit_pandas-profiling) (0.1.0)\n",
      "Requirement already satisfied: contourpy>=1.0.1 in c:\\users\\shahzad\\miniconda3\\envs\\streamlit\\lib\\site-packages (from matplotlib<=3.7.3,>=3.2->ydata-profiling->pandas-profiling->streamlit_pandas-profiling) (1.1.1)\n",
      "Requirement already satisfied: cycler>=0.10 in c:\\users\\shahzad\\miniconda3\\envs\\streamlit\\lib\\site-packages (from matplotlib<=3.7.3,>=3.2->ydata-profiling->pandas-profiling->streamlit_pandas-profiling) (0.12.1)\n",
      "Requirement already satisfied: fonttools>=4.22.0 in c:\\users\\shahzad\\miniconda3\\envs\\streamlit\\lib\\site-packages (from matplotlib<=3.7.3,>=3.2->ydata-profiling->pandas-profiling->streamlit_pandas-profiling) (4.43.1)\n",
      "Requirement already satisfied: kiwisolver>=1.0.1 in c:\\users\\shahzad\\miniconda3\\envs\\streamlit\\lib\\site-packages (from matplotlib<=3.7.3,>=3.2->ydata-profiling->pandas-profiling->streamlit_pandas-profiling) (1.4.5)\n",
      "Requirement already satisfied: pyparsing>=2.3.1 in c:\\users\\shahzad\\miniconda3\\envs\\streamlit\\lib\\site-packages (from matplotlib<=3.7.3,>=3.2->ydata-profiling->pandas-profiling->streamlit_pandas-profiling) (3.1.1)\n",
      "Requirement already satisfied: llvmlite<0.42,>=0.41.0dev0 in c:\\users\\shahzad\\miniconda3\\envs\\streamlit\\lib\\site-packages (from numba<0.59.0,>=0.56.0->ydata-profiling->pandas-profiling->streamlit_pandas-profiling) (0.41.1)\n",
      "Requirement already satisfied: joblib>=0.14.1 in c:\\users\\shahzad\\miniconda3\\envs\\streamlit\\lib\\site-packages (from phik<0.13,>=0.11.1->ydata-profiling->pandas-profiling->streamlit_pandas-profiling) (1.3.2)\n",
      "Requirement already satisfied: annotated-types>=0.4.0 in c:\\users\\shahzad\\miniconda3\\envs\\streamlit\\lib\\site-packages (from pydantic>=2->ydata-profiling->pandas-profiling->streamlit_pandas-profiling) (0.6.0)\n",
      "Requirement already satisfied: pydantic-core==2.10.1 in c:\\users\\shahzad\\miniconda3\\envs\\streamlit\\lib\\site-packages (from pydantic>=2->ydata-profiling->pandas-profiling->streamlit_pandas-profiling) (2.10.1)\n",
      "Requirement already satisfied: patsy>=0.5.2 in c:\\users\\shahzad\\miniconda3\\envs\\streamlit\\lib\\site-packages (from statsmodels<1,>=0.13.2->ydata-profiling->pandas-profiling->streamlit_pandas-profiling) (0.5.3)\n",
      "Note: you may need to restart the kernel to use updated packages.\n"
     ]
    },
    {
     "name": "stderr",
     "output_type": "stream",
     "text": [
      "WARNING: visions 0.7.5 does not provide the extra 'type-image-path'\n"
     ]
    }
   ],
   "source": [
    "pip install streamlit_pandas-profiling"
   ]
  },
  {
   "cell_type": "code",
   "execution_count": 2,
   "metadata": {},
   "outputs": [
    {
     "name": "stdout",
     "output_type": "stream",
     "text": [
      "Note: you may need to restart the kernel to use updated packages.\n"
     ]
    },
    {
     "name": "stderr",
     "output_type": "stream",
     "text": [
      "WARNING: Retrying (Retry(total=4, connect=None, read=None, redirect=None, status=None)) after connection broken by 'ProxyError('Your proxy appears to only use HTTP and not HTTPS, try changing your proxy URL to be HTTP. See: https://urllib3.readthedocs.io/en/1.26.x/advanced-usage.html#https-proxy-error-http-proxy', SSLError(SSLError(1, '[SSL: WRONG_VERSION_NUMBER] wrong version number (_ssl.c:1131)')))': /simple/pydantic/\n",
      "WARNING: Retrying (Retry(total=3, connect=None, read=None, redirect=None, status=None)) after connection broken by 'ProxyError('Your proxy appears to only use HTTP and not HTTPS, try changing your proxy URL to be HTTP. See: https://urllib3.readthedocs.io/en/1.26.x/advanced-usage.html#https-proxy-error-http-proxy', SSLError(SSLError(1, '[SSL: WRONG_VERSION_NUMBER] wrong version number (_ssl.c:1131)')))': /simple/pydantic/\n",
      "WARNING: Retrying (Retry(total=2, connect=None, read=None, redirect=None, status=None)) after connection broken by 'ProxyError('Your proxy appears to only use HTTP and not HTTPS, try changing your proxy URL to be HTTP. See: https://urllib3.readthedocs.io/en/1.26.x/advanced-usage.html#https-proxy-error-http-proxy', SSLError(SSLError(1, '[SSL: WRONG_VERSION_NUMBER] wrong version number (_ssl.c:1131)')))': /simple/pydantic/\n",
      "WARNING: Retrying (Retry(total=1, connect=None, read=None, redirect=None, status=None)) after connection broken by 'ProxyError('Your proxy appears to only use HTTP and not HTTPS, try changing your proxy URL to be HTTP. See: https://urllib3.readthedocs.io/en/1.26.x/advanced-usage.html#https-proxy-error-http-proxy', SSLError(SSLError(1, '[SSL: WRONG_VERSION_NUMBER] wrong version number (_ssl.c:1131)')))': /simple/pydantic/\n",
      "WARNING: Retrying (Retry(total=0, connect=None, read=None, redirect=None, status=None)) after connection broken by 'ProxyError('Your proxy appears to only use HTTP and not HTTPS, try changing your proxy URL to be HTTP. See: https://urllib3.readthedocs.io/en/1.26.x/advanced-usage.html#https-proxy-error-http-proxy', SSLError(SSLError(1, '[SSL: WRONG_VERSION_NUMBER] wrong version number (_ssl.c:1131)')))': /simple/pydantic/\n",
      "ERROR: Could not find a version that satisfies the requirement pydantic==1.* (from versions: none)\n",
      "ERROR: No matching distribution found for pydantic==1.*\n"
     ]
    }
   ],
   "source": [
    "pip install \"pydantic==1.*\"\n"
   ]
  }
 ],
 "metadata": {
  "kernelspec": {
   "display_name": "streamlit",
   "language": "python",
   "name": "python3"
  },
  "language_info": {
   "codemirror_mode": {
    "name": "ipython",
    "version": 3
   },
   "file_extension": ".py",
   "mimetype": "text/x-python",
   "name": "python",
   "nbconvert_exporter": "python",
   "pygments_lexer": "ipython3",
   "version": "3.8.18"
  }
 },
 "nbformat": 4,
 "nbformat_minor": 2
}
